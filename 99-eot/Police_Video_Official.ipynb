{
 "cells": [
  {
   "cell_type": "code",
   "execution_count": 61,
   "metadata": {},
   "outputs": [],
   "source": [
    "from jupyter_dash import JupyterDash"
   ]
  },
  {
   "cell_type": "code",
   "execution_count": 62,
   "metadata": {},
   "outputs": [],
   "source": [
    "import dash\n",
    "import dash_core_components as dcc\n",
    "import dash_html_components as html\n",
    "import pandas as pd"
   ]
  },
  {
   "cell_type": "code",
   "execution_count": 64,
   "metadata": {},
   "outputs": [],
   "source": [
    "JupyterDash.infer_jupyter_proxy_config()"
   ]
  },
  {
   "cell_type": "code",
   "execution_count": 65,
   "metadata": {},
   "outputs": [
    {
     "name": "stdout",
     "output_type": "stream",
     "text": [
      "<class 'pandas.core.frame.DataFrame'>\n",
      "RangeIndex: 15 entries, 0 to 14\n",
      "Data columns (total 4 columns):\n",
      " #   Column       Non-Null Count  Dtype\n",
      "---  ------       --------------  -----\n",
      " 0   Year         15 non-null     int64\n",
      " 1   False Video  15 non-null     int64\n",
      " 2   True Video   15 non-null     int64\n",
      " 3   Total        15 non-null     int64\n",
      "dtypes: int64(4)\n",
      "memory usage: 608.0 bytes\n",
      "   Year  False Video  True Video  Total\n",
      "0  2006        11282           0  11282\n",
      "1  2007        12584           0  12584\n",
      "2  2008        10891           0  10891\n",
      "3  2009        12219           0  12219\n",
      "4  2010         9808           0   9808\n",
      "5  2011         8305           0   8305\n",
      "6  2012         5596          87   5683\n",
      "7  2013         8543         403   8946\n",
      "8  2014         6820         537   7357\n",
      "9  2015         6729        1335   8064\n"
     ]
    }
   ],
   "source": [
    "#df = pd.read_csv('https://download1472.mediafire.com/k2ptku775djg/iyizskm9hyyp46a/NYPD_police_complaints.csv')\n",
    "df = pd.read_csv('/Users/teacher/Desktop/NYPD_police_complaints.csv')\n",
    "\n",
    "df_abuse = pd.read_csv('https://raw.githubusercontent.com/hunter-teacher-cert/fall-2020-ethics-work-acomeaux93/master/99-eot/Abuse_Of_Authority.csv')\n",
    "df_discourtesy = pd.read_csv('https://raw.githubusercontent.com/hunter-teacher-cert/fall-2020-ethics-work-acomeaux93/master/99-eot/Discourtesy.csv')\n",
    "df_force = pd.read_csv('https://raw.githubusercontent.com/hunter-teacher-cert/fall-2020-ethics-work-acomeaux93/master/99-eot/Force.csv')\n",
    "df_language = pd.read_csv('https://raw.githubusercontent.com/hunter-teacher-cert/fall-2020-ethics-work-acomeaux93/master/99-eot/Offensive_Language.csv')\n",
    "\n",
    "df_abuse.info()\n",
    "print(df_abuse.head(10))\n",
    "\n",
    "allegations = df['Allegation FADO Type'].unique()\n",
    "years = df['Close Year'].unique()\n"
   ]
  },
  {
   "cell_type": "code",
   "execution_count": 66,
   "metadata": {},
   "outputs": [],
   "source": [
    "external_stylesheets = ['https://codepen.io/chriddyp/pen/bWLwgP.css']\n",
    "\n",
    "app = JupyterDash(__name__, external_stylesheets=external_stylesheets)\n",
    "\n",
    "# Create server variable with Flask server object for use with gunicorn\n",
    "server = app.server"
   ]
  },
  {
   "cell_type": "code",
   "execution_count": 67,
   "metadata": {},
   "outputs": [],
   "source": [
    "app.layout = html.Div([        \n",
    "    dcc.Dropdown(\n",
    "        id='offense_category',\n",
    "        options=[\n",
    "            {'label': 'Force', 'value': 'F'},\n",
    "            {'label': 'Discourtesy', 'value': 'D'},\n",
    "            {'label': 'Abuse of Authority', 'value': 'A'},\n",
    "            {'label': 'Offensive Language', 'value': 'O'}\n",
    "            \n",
    "        ],\n",
    "        value='F'\n",
    "        \n",
    "#         options=[{'label': i, 'value': i} for i in allegations],\n",
    "#         value='FADO allegation type' \n",
    "    ),\n",
    "        \n",
    "html.Div([\n",
    "    dcc.Graph(\n",
    "        id='police_graph'\n",
    "    )\n",
    "])\n",
    "])\n",
    "\n",
    " # Callback for Updating the figure\n",
    "@app.callback(\n",
    "    dash.dependencies.Output('police_graph', 'figure'),\n",
    "    [dash.dependencies.Input('offense_category', 'value')])\n",
    "    \n",
    "def update_graph(value):\n",
    "    \n",
    "    category = df\n",
    "    \n",
    "    if(value == 'F'):\n",
    "        category = df_force\n",
    "    elif(value == 'D'): \n",
    "        category = df_discourtesy\n",
    "    elif(value == 'A'):\n",
    "        category = df_abuse\n",
    "    else:\n",
    "        category = df_language\n",
    "        \n",
    "    return {\n",
    "        'data': [\n",
    "                {'x': category['Year'], 'y': category['Total'], 'type': 'bar', 'name': 'Total Complaints'},\n",
    "                {'x': category['Year'], 'y': category['True Video'], 'type': 'bar', 'name': 'Complaints With Video'},\n",
    "            ],\n",
    "            'layout': {\n",
    "                'barmode': 'overlay',\n",
    "                'title': 'NYPD Yearly Complaint Totals by Offense Category'\n",
    "            }\n",
    "    }"
   ]
  },
  {
   "cell_type": "code",
   "execution_count": 68,
   "metadata": {},
   "outputs": [
    {
     "name": "stdout",
     "output_type": "stream",
     "text": [
      "Dash app running on http://localhost:8888/proxy/8050/\n"
     ]
    }
   ],
   "source": [
    "app.run_server()"
   ]
  },
  {
   "cell_type": "code",
   "execution_count": 69,
   "metadata": {},
   "outputs": [
    {
     "data": {
      "text/html": [
       "\n",
       "        <iframe\n",
       "            width=\"100%\"\n",
       "            height=\"650\"\n",
       "            src=\"http://localhost:8888/proxy/8050/\"\n",
       "            frameborder=\"0\"\n",
       "            allowfullscreen\n",
       "        ></iframe>\n",
       "        "
      ],
      "text/plain": [
       "<IPython.lib.display.IFrame at 0x7fe63f8f7cd0>"
      ]
     },
     "metadata": {},
     "output_type": "display_data"
    }
   ],
   "source": [
    "app.run_server(mode=\"inline\")"
   ]
  },
  {
   "cell_type": "code",
   "execution_count": null,
   "metadata": {},
   "outputs": [],
   "source": []
  }
 ],
 "metadata": {
  "kernelspec": {
   "display_name": "Python 3",
   "language": "python",
   "name": "python3"
  },
  "language_info": {
   "codemirror_mode": {
    "name": "ipython",
    "version": 3
   },
   "file_extension": ".py",
   "mimetype": "text/x-python",
   "name": "python",
   "nbconvert_exporter": "python",
   "pygments_lexer": "ipython3",
   "version": "3.7.6"
  }
 },
 "nbformat": 4,
 "nbformat_minor": 4
}
